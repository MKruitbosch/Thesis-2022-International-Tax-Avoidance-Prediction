{
 "cells": [
  {
   "cell_type": "code",
   "execution_count": 1,
   "id": "5390f714",
   "metadata": {},
   "outputs": [
    {
     "name": "stderr",
     "output_type": "stream",
     "text": [
      "C:\\Users\\Gebruiker\\Anaconda3\\lib\\site-packages\\statsmodels\\tools\\_testing.py:19: FutureWarning: pandas.util.testing is deprecated. Use the functions in the public API at pandas.testing instead.\n",
      "  import pandas.util.testing as tm\n"
     ]
    }
   ],
   "source": [
    "import seaborn as sns\n",
    "import pandas as pd\n",
    "import numpy as np\n",
    "from sklearn.model_selection import train_test_split\n",
    "import statsmodels.api as sm\n",
    "from sklearn.linear_model import LinearRegression\n",
    "from scipy import stats\n",
    "from scipy.stats import mstats\n",
    "from sklearn.metrics import mean_absolute_error, mean_squared_error\n",
    "from sklearn.experimental import enable_iterative_imputer\n",
    "from sklearn.impute import IterativeImputer\n",
    "import xgboost as xgb\n",
    "from sklearn.preprocessing import StandardScaler\n",
    "from sklearn.preprocessing import RobustScaler"
   ]
  },
  {
   "cell_type": "code",
   "execution_count": 2,
   "id": "22ad2df4",
   "metadata": {},
   "outputs": [],
   "source": [
    "data = pd.read_excel('Final dataset for real3.xlsx', index_col = 0)"
   ]
  },
  {
   "cell_type": "code",
   "execution_count": 3,
   "id": "868978ba",
   "metadata": {},
   "outputs": [
    {
     "name": "stdout",
     "output_type": "stream",
     "text": [
      "Train (16986, 18) (16986,)\n",
      "Test (4247, 18) (4247,)\n",
      "Imputed (14904, 33) (14904,)\n",
      "Imputed_test (3735, 33) (3735,)\n"
     ]
    }
   ],
   "source": [
    "data['Country ISO code'] = data['Country ISO code'].astype('category')\n",
    "data['Size'] = data['Size'].astype('category')\n",
    "data['Accounting practice'] = data['Accounting practice'].astype('category')\n",
    "data['NACE Rev. 2'] = data['NACE Rev. 2'].astype('category')\n",
    "\n",
    "X = data[[\"Nr. of Tax Treaties\",\"NACE Rev. 2\",\"Operating revenue\",\"Number of employees\",\n",
    "          \"PBT\",\"Total assets\",\"ROA\",\"No of subsidiaries\",\"Solvency ratio\",\"Long term debt\",\"Debtors\",\n",
    "          \"Current liabilities\", \"Size\",\"Accounting practice\",\"Degree\",\"Closeness\",\"Betweenness\",\"Eigenvector\"]]\n",
    "y = data[\"ETR\"]\n",
    "\n",
    "X_train, X_test, y_train, y_test = train_test_split(X, y, test_size=0.20, random_state= 2031996, shuffle = True)\n",
    "\n",
    "X_train_con = X_train[[\"Nr. of Tax Treaties\",\"Operating revenue\",\"Number of employees\",\n",
    "          \"PBT\",\"Total assets\",\"ROA\",\"No of subsidiaries\",\"Solvency ratio\",\"Long term debt\",\"Debtors\",\n",
    "          \"Current liabilities\"]]\n",
    "X_train_na = X_train[[\"Degree\", \"Closeness\", \"Betweenness\", \"Eigenvector\"]]\n",
    "X_train_cat = X_train[['NACE Rev. 2', 'Size', 'Accounting practice']]\n",
    "\n",
    "scaler_con = StandardScaler()\n",
    "scaler_con.fit(X_train_con)\n",
    "scaler_na = StandardScaler()\n",
    "scaler_na.fit(X_train_na)\n",
    "StandardScaler()\n",
    "X_train_con = scaler_con.transform(X_train_con)\n",
    "\n",
    "X_train_na = pd.DataFrame(scaler_na.transform(X_train_na), index = X_train.index)\n",
    "X_train_na.columns = [\"Degree\", \"Closeness\", \"Betweenness\", \"Eigenvector\"]\n",
    "\n",
    "iim=IterativeImputer(\n",
    "initial_strategy='median',\n",
    "max_iter=10,\n",
    "missing_values= np.nan,\n",
    "random_state=2031996)\n",
    "\n",
    "imputed_X_train_con = pd.DataFrame(iim.fit_transform(X_train_con), index = X_train.index)\n",
    "imputed_X_train_con.columns = [\"Nr. of Tax Treaties\",\"Operating revenue\",\"Number of employees\",\n",
    "          \"PBT\",\"Total assets\",\"ROA\",\"No of subsidiaries\",\"Solvency ratio\",\"Long term debt\",\"Debtors\",\n",
    "          \"Current liabilities\"]\n",
    "imputed_X_train_cat = pd.get_dummies(X_train_cat)\n",
    "\n",
    "drop_na = pd.concat([imputed_X_train_con, imputed_X_train_cat, X_train_na, y_train], axis = 1)\n",
    "drop_na = drop_na.dropna()\n",
    "drop_na = pd.DataFrame(drop_na)\n",
    "\n",
    "X_train_final = drop_na.loc[:,:\"Eigenvector\"]\n",
    "y_train_final = drop_na['ETR']\n",
    "\n",
    "X_test_con = X_test[[\"Nr. of Tax Treaties\",\"Operating revenue\",\"Number of employees\",\n",
    "          \"PBT\",\"Total assets\",\"ROA\",\"No of subsidiaries\",\"Solvency ratio\",\"Long term debt\",\"Debtors\",\n",
    "          \"Current liabilities\"]]\n",
    "X_test_na = X_test[[\"Degree\", \"Closeness\", \"Betweenness\", \"Eigenvector\"]]\n",
    "X_test_cat = X_test[['NACE Rev. 2', 'Size', 'Accounting practice']]\n",
    "\n",
    "X_test_con = scaler_con.transform(X_test_con)\n",
    "\n",
    "X_test_na = pd.DataFrame(scaler_na.transform(X_test_na), index = X_test.index)\n",
    "X_test_na.columns = [\"Degree\", \"Closeness\", \"Betweenness\", \"Eigenvector\"]\n",
    "\n",
    "imputed_X_test_con = pd.DataFrame(iim.transform(X_test_con), index = X_test.index)\n",
    "imputed_X_test_con.columns = [\"Nr. of Tax Treaties\",\"Operating revenue\",\"Number of employees\",\n",
    "          \"PBT\",\"Total assets\",\"ROA\",\"No of subsidiaries\",\"Solvency ratio\",\"Long term debt\",\"Debtors\",\n",
    "          \"Current liabilities\"]\n",
    "imputed_X_test_cat = pd.get_dummies(X_test_cat)\n",
    "\n",
    "drop_na = pd.concat([imputed_X_test_con, imputed_X_test_cat, X_test_na, y_test], axis = 1)\n",
    "drop_na = drop_na.dropna()\n",
    "drop_na = pd.DataFrame(drop_na)\n",
    "\n",
    "X_test_final = drop_na.loc[:,:\"Eigenvector\"]\n",
    "y_test_final = drop_na['ETR']\n",
    "\n",
    "print('Train', X_train.shape, y_train.shape)\n",
    "print('Test', X_test.shape, y_test.shape)\n",
    "print('Imputed' , X_train_final.shape, y_train_final.shape)\n",
    "print('Imputed_test' , X_test_final.shape, y_test_final.shape)"
   ]
  },
  {
   "cell_type": "code",
   "execution_count": 4,
   "id": "59053dc9",
   "metadata": {},
   "outputs": [
    {
     "name": "stdout",
     "output_type": "stream",
     "text": [
      "Train (11108, 18) (11108,)\n",
      "Test (2778, 18) (2778,)\n",
      "Imputed (11108, 33) (11108,)\n",
      "Imputed (2778, 33) (2778,)\n"
     ]
    }
   ],
   "source": [
    "def winsorize(dataframe, upper, lower, column_to_winsor):\n",
    "    dataframe = dataframe.sort_values(column_to_winsor, ascending=False, ignore_index = True)\n",
    "    amount = dataframe[column_to_winsor].count()\n",
    "    up = int(amount * (upper/100))\n",
    "    low = int(amount * (lower/100))\n",
    "    data_winsor = dataframe.loc[low:up]\n",
    "    return data_winsor\n",
    "\n",
    "data_winsor = winsorize(data, 99,  1, 'ETR') \n",
    "data_winsor = winsorize(data_winsor, 99, 1, \"Operating revenue\")\n",
    "data_winsor = winsorize(data_winsor, 99, 1, \"Total assets\")\n",
    "data_winsor = winsorize(data_winsor, 99, 1, \"Current liabilities\")\n",
    "data_winsor = winsorize(data_winsor, 99, 1, \"Betweenness\")\n",
    "data_winsor = winsorize(data_winsor, 99, 1, \"Long term debt\")\n",
    "data_winsor = winsorize(data_winsor, 99, 1, \"PBT\")\n",
    "\n",
    "X_winsor = data_winsor[[\"Nr. of Tax Treaties\",\"NACE Rev. 2\",\"Operating revenue\",\"Number of employees\",\n",
    "          \"PBT\",\"Total assets\",\"ROA\",\"No of subsidiaries\",\"Solvency ratio\",\"Long term debt\",\"Debtors\",\n",
    "          \"Current liabilities\", \"Size\",\"Accounting practice\",\"Degree\",\"Closeness\",\"Betweenness\",\"Eigenvector\"]]\n",
    "y_winsor = data_winsor[\"ETR\"]\n",
    "\n",
    "X_train_winsor, X_test_winsor, y_train_winsor, y_test_winsor = train_test_split(X_winsor, y_winsor, test_size=0.20, random_state= 2031996, shuffle = True)\n",
    "\n",
    "X_train_con_winsor = X_train_winsor[[\"Nr. of Tax Treaties\",\"Operating revenue\",\"Number of employees\",\n",
    "          \"PBT\",\"Total assets\",\"ROA\",\"No of subsidiaries\",\"Solvency ratio\",\"Long term debt\",\"Debtors\",\n",
    "          \"Current liabilities\"]]\n",
    "X_train_na_winsor = X_train_winsor[[\"Degree\", \"Closeness\", \"Betweenness\", \"Eigenvector\"]]\n",
    "X_train_cat_winsor = X_train_winsor[['NACE Rev. 2', 'Size', 'Accounting practice']]\n",
    "\n",
    "scaler_con_winsor = StandardScaler()\n",
    "scaler_con_winsor.fit(X_train_con_winsor)\n",
    "scaler_na_winsor = StandardScaler()\n",
    "scaler_na_winsor.fit(X_train_na_winsor)\n",
    "StandardScaler()\n",
    "X_train_con_winsor = scaler_con_winsor.transform(X_train_con_winsor)\n",
    "\n",
    "X_train_na_winsor = pd.DataFrame(scaler_na_winsor.transform(X_train_na_winsor), index = X_train_winsor.index)\n",
    "X_train_na_winsor.columns = [\"Degree\", \"Closeness\", \"Betweenness\", \"Eigenvector\"]\n",
    "\n",
    "iim=IterativeImputer(\n",
    "initial_strategy='median',\n",
    "max_iter=10,\n",
    "missing_values= np.nan,\n",
    "random_state=2031996)\n",
    "\n",
    "imputed_X_train_con_winsor = pd.DataFrame(iim.fit_transform(X_train_con_winsor), index = X_train_winsor.index)\n",
    "imputed_X_train_con_winsor.columns = [\"Nr. of Tax Treaties\",\"Operating revenue\",\"Number of employees\",\n",
    "          \"PBT\",\"Total assets\",\"ROA\",\"No of subsidiaries\",\"Solvency ratio\",\"Long term debt\",\"Debtors\",\n",
    "          \"Current liabilities\"]\n",
    "imputed_X_train_cat_winsor = pd.get_dummies(X_train_cat_winsor)\n",
    "\n",
    "drop_na_winsor = pd.concat([imputed_X_train_con_winsor, imputed_X_train_cat_winsor, X_train_na_winsor, y_train_winsor], axis = 1)\n",
    "drop_na_winsor = drop_na_winsor.dropna()\n",
    "drop_na_winsor = pd.DataFrame(drop_na_winsor)\n",
    "\n",
    "X_train_final_winsor = drop_na_winsor.loc[:,:'Eigenvector']\n",
    "y_train_final_winsor = drop_na_winsor['ETR']\n",
    "\n",
    "X_test_con_winsor = X_test_winsor[[\"Nr. of Tax Treaties\",\"Operating revenue\",\"Number of employees\",\n",
    "          \"PBT\",\"Total assets\",\"ROA\",\"No of subsidiaries\",\"Solvency ratio\",\"Long term debt\",\"Debtors\",\n",
    "          \"Current liabilities\"]]\n",
    "X_test_na_winsor = X_test_winsor[[\"Degree\", \"Closeness\", \"Betweenness\", \"Eigenvector\"]]\n",
    "X_test_cat_winsor = X_test_winsor[['NACE Rev. 2', 'Size', 'Accounting practice']]\n",
    "\n",
    "X_test_con_winsor = scaler_con_winsor.transform(X_test_con_winsor)\n",
    "\n",
    "X_test_na_winsor = pd.DataFrame(scaler_na_winsor.transform(X_test_na_winsor), index = X_test_winsor.index)\n",
    "X_test_na_winsor.columns = [\"Degree\", \"Closeness\", \"Betweenness\", \"Eigenvector\"]\n",
    "\n",
    "imputed_X_test_con_winsor = pd.DataFrame(iim.transform(X_test_con_winsor), index = X_test_winsor.index)\n",
    "imputed_X_test_con_winsor.columns = [\"Nr. of Tax Treaties\",\"Operating revenue\",\"Number of employees\",\n",
    "          \"PBT\",\"Total assets\",\"ROA\",\"No of subsidiaries\",\"Solvency ratio\",\"Long term debt\",\"Debtors\",\n",
    "          \"Current liabilities\"]\n",
    "imputed_X_test_cat_winsor = pd.get_dummies(X_test_cat_winsor)\n",
    "\n",
    "drop_na_winsor = pd.concat([imputed_X_test_con_winsor, imputed_X_test_cat_winsor, X_test_na_winsor, y_test_winsor], axis = 1)\n",
    "drop_na_winsor = pd.DataFrame(drop_na_winsor)\n",
    "\n",
    "X_test_final_winsor = drop_na_winsor.loc[:,:'Eigenvector']\n",
    "y_test_final_winsor = drop_na_winsor['ETR']\n",
    "\n",
    "print('Train', X_train_winsor.shape, y_train_winsor.shape)\n",
    "print('Test', X_test_winsor.shape, y_test_winsor.shape)\n",
    "print('Imputed' , X_train_final_winsor.shape, y_train_final_winsor.shape)\n",
    "print('Imputed' , X_test_final_winsor.shape, y_test_final_winsor.shape)"
   ]
  },
  {
   "cell_type": "code",
   "execution_count": 5,
   "id": "7e64c305",
   "metadata": {},
   "outputs": [
    {
     "name": "stdout",
     "output_type": "stream",
     "text": [
      "Train (8877, 18) (8877,)\n",
      "Test (2220, 18) (2220,)\n",
      "Imputed (8876, 33) (8876,)\n",
      "Imputed (2220, 33) (2220,)\n"
     ]
    }
   ],
   "source": [
    "def winsorize(dataframe, upper, lower, column_to_winsor):\n",
    "    dataframe = dataframe.sort_values(column_to_winsor, ascending=False, ignore_index = True)\n",
    "    amount = dataframe[column_to_winsor].count()\n",
    "    up = int(amount * (upper/100))\n",
    "    low = int(amount * (lower/100))\n",
    "    data_winsor = dataframe.loc[low:up]\n",
    "    return data_winsor\n",
    "\n",
    "data_winsor2 = winsorize(data, 97.5,  4, 'ETR') \n",
    "data_winsor2 = winsorize(data_winsor2, 100,  4, \"Operating revenue\")\n",
    "data_winsor2 = winsorize(data_winsor2, 100,  4, \"Total assets\")\n",
    "data_winsor2 = winsorize(data_winsor2, 100,  4, \"Current liabilities\")\n",
    "data_winsor2 = winsorize(data_winsor2, 100,  4, \"Betweenness\")\n",
    "data_winsor2 = winsorize(data_winsor2, 100,  4, \"Long term debt\")\n",
    "data_winsor2 = winsorize(data_winsor2, 97.5,  2.5, \"PBT\")\n",
    "\n",
    "X_winsor2 = data_winsor2[[\"Nr. of Tax Treaties\",\"NACE Rev. 2\",\"Operating revenue\",\"Number of employees\",\n",
    "          \"PBT\",\"Total assets\",\"ROA\",\"No of subsidiaries\",\"Solvency ratio\",\"Long term debt\",\"Debtors\",\n",
    "          \"Current liabilities\", \"Size\",\"Accounting practice\",\"Degree\",\"Closeness\",\"Betweenness\",\"Eigenvector\"]]\n",
    "y_winsor2 = data_winsor2[\"ETR\"]\n",
    "\n",
    "X_train_winsor2, X_test_winsor2, y_train_winsor2, y_test_winsor2 = train_test_split(X_winsor2, y_winsor2, test_size=0.20, random_state= 2031996, shuffle = True)\n",
    "\n",
    "X_train_con_winsor2 = X_train_winsor2[[\"Nr. of Tax Treaties\",\"Operating revenue\",\"Number of employees\",\n",
    "          \"PBT\",\"Total assets\",\"ROA\",\"No of subsidiaries\",\"Solvency ratio\",\"Long term debt\",\"Debtors\",\n",
    "          \"Current liabilities\"]]\n",
    "X_train_na_winsor2 = X_train_winsor2[[\"Degree\", \"Closeness\", \"Betweenness\", \"Eigenvector\"]]\n",
    "X_train_cat_winsor2 = X_train_winsor2[['NACE Rev. 2', 'Size', 'Accounting practice']]\n",
    "\n",
    "scaler_con_winsor2 = StandardScaler()\n",
    "scaler_con_winsor2.fit(X_train_con_winsor2)\n",
    "scaler_na_winsor2 = StandardScaler()\n",
    "scaler_na_winsor2.fit(X_train_na_winsor2)\n",
    "StandardScaler()\n",
    "X_train_con_winsor2 = scaler_con_winsor2.transform(X_train_con_winsor2)\n",
    "\n",
    "X_train_na_winsor2 = pd.DataFrame(scaler_na_winsor2.transform(X_train_na_winsor2), index = X_train_winsor2.index)\n",
    "X_train_na_winsor2.columns = [\"Degree\", \"Closeness\", \"Betweenness\", \"Eigenvector\"]\n",
    "\n",
    "iim=IterativeImputer(\n",
    "initial_strategy='median',\n",
    "max_iter=10,\n",
    "missing_values= np.nan,\n",
    "random_state=2031996)\n",
    "\n",
    "imputed_X_train_con_winsor2 = pd.DataFrame(iim.fit_transform(X_train_con_winsor2), index = X_train_winsor2.index)\n",
    "imputed_X_train_con_winsor2.columns = [\"Nr. of Tax Treaties\",\"Operating revenue\",\"Number of employees\",\n",
    "          \"PBT\",\"Total assets\",\"ROA\",\"No of subsidiaries\",\"Solvency ratio\",\"Long term debt\",\"Debtors\",\n",
    "          \"Current liabilities\"]\n",
    "imputed_X_train_cat_winsor2 = pd.get_dummies(X_train_cat_winsor2)\n",
    "\n",
    "drop_na_winsor2 = pd.concat([imputed_X_train_con_winsor2, imputed_X_train_cat_winsor2, X_train_na_winsor2, y_train_winsor2], axis = 1)\n",
    "drop_na_winsor2 = drop_na_winsor2.dropna()\n",
    "drop_na_winsor2 = pd.DataFrame(drop_na_winsor2)\n",
    "\n",
    "X_train_final_winsor2 = drop_na_winsor2.loc[:,:'Eigenvector']\n",
    "y_train_final_winsor2 = drop_na_winsor2['ETR']\n",
    "\n",
    "X_test_con_winsor2 = X_test_winsor2[[\"Nr. of Tax Treaties\",\"Operating revenue\",\"Number of employees\",\n",
    "          \"PBT\",\"Total assets\",\"ROA\",\"No of subsidiaries\",\"Solvency ratio\",\"Long term debt\",\"Debtors\",\n",
    "          \"Current liabilities\"]]\n",
    "X_test_na_winsor2 = X_test_winsor2[[\"Degree\", \"Closeness\", \"Betweenness\", \"Eigenvector\"]]\n",
    "X_test_cat_winsor2 = X_test_winsor2[['NACE Rev. 2', 'Size', 'Accounting practice']]\n",
    "\n",
    "X_test_con_winsor2 = scaler_con_winsor2.transform(X_test_con_winsor2)\n",
    "\n",
    "X_test_na_winsor2 = pd.DataFrame(scaler_na_winsor2.transform(X_test_na_winsor2), index = X_test_winsor2.index)\n",
    "X_test_na_winsor2.columns = [\"Degree\", \"Closeness\", \"Betweenness\", \"Eigenvector\"]\n",
    "\n",
    "imputed_X_test_con_winsor2 = pd.DataFrame(iim.transform(X_test_con_winsor2), index = X_test_winsor2.index)\n",
    "imputed_X_test_con_winsor2.columns = [\"Nr. of Tax Treaties\",\"Operating revenue\",\"Number of employees\",\n",
    "          \"PBT\",\"Total assets\",\"ROA\",\"No of subsidiaries\",\"Solvency ratio\",\"Long term debt\",\"Debtors\",\n",
    "          \"Current liabilities\"]\n",
    "imputed_X_test_cat_winsor2 = pd.get_dummies(X_test_cat_winsor2)\n",
    "\n",
    "drop_na_winsor2 = pd.concat([imputed_X_test_con_winsor2, imputed_X_test_cat_winsor2, X_test_na_winsor2, y_test_winsor2], axis = 1)\n",
    "drop_na_winsor2 = pd.DataFrame(drop_na_winsor2)\n",
    "\n",
    "X_test_final_winsor2 = drop_na_winsor2.loc[:,:'Eigenvector']\n",
    "y_test_final_winsor2 = drop_na_winsor2['ETR']\n",
    "\n",
    "print('Train', X_train_winsor2.shape, y_train_winsor2.shape)\n",
    "print('Test', X_test_winsor2.shape, y_test_winsor2.shape)\n",
    "print('Imputed' , X_train_final_winsor2.shape, y_train_final_winsor2.shape)\n",
    "print('Imputed' , X_test_final_winsor2.shape, y_test_final_winsor2.shape)"
   ]
  },
  {
   "cell_type": "code",
   "execution_count": 6,
   "id": "8ee99342",
   "metadata": {},
   "outputs": [
    {
     "name": "stdout",
     "output_type": "stream",
     "text": [
      "      With outliers\n",
      "MSE   169727.707753\n",
      "RMSE     411.980227\n",
      "MAE      105.954015\n"
     ]
    }
   ],
   "source": [
    "reg = LinearRegression().fit(X_train_final, y_train_final)\n",
    "reg.score(X_test_final, y_test_final)\n",
    "y_pred_final = reg.predict(X_test_final)\n",
    "mae = mean_absolute_error(y_test_final, y_pred_final)\n",
    "mse = mean_squared_error(y_test_final, y_pred_final)\n",
    "rmse = np.sqrt(mse)\n",
    "d_nonan = {'With outliers': [mse, rmse, mae]}\n",
    "df_nonan = pd.DataFrame(d_nonan, index = ['MSE','RMSE','MAE'])\n",
    "print(df_nonan)"
   ]
  },
  {
   "cell_type": "code",
   "execution_count": 7,
   "id": "a52cfc12",
   "metadata": {},
   "outputs": [
    {
     "name": "stdout",
     "output_type": "stream",
     "text": [
      "      1% outliers removed\n",
      "MSE            831.149688\n",
      "RMSE            28.829667\n",
      "MAE             16.777226\n"
     ]
    }
   ],
   "source": [
    "reg = LinearRegression().fit(X_train_final_winsor, y_train_final_winsor)\n",
    "reg.score(X_test_final_winsor, y_test_final_winsor)\n",
    "y_pred_final_winsor = reg.predict(X_test_final_winsor)\n",
    "mae_winsor = mean_absolute_error(y_test_final_winsor, y_pred_final_winsor)\n",
    "mse_winsor = mean_squared_error(y_test_final_winsor, y_pred_final_winsor)\n",
    "rmse_winsor = np.sqrt(mse_winsor)\n",
    "d_winsor = {'1% outliers removed': [mse_winsor, rmse_winsor, mae_winsor]}\n",
    "df_winsor = pd.DataFrame(d_winsor, index = ['MSE','RMSE','MAE'])\n",
    "print(df_winsor)"
   ]
  },
  {
   "cell_type": "code",
   "execution_count": 9,
   "id": "cd556ded",
   "metadata": {},
   "outputs": [
    {
     "name": "stdout",
     "output_type": "stream",
     "text": [
      "      5% outliers removed\n",
      "MSE            257.430482\n",
      "RMSE            16.044640\n",
      "MAE             12.031347\n"
     ]
    }
   ],
   "source": [
    "reg = LinearRegression().fit(X_train_final_winsor2, y_train_final_winsor2)\n",
    "reg.score(X_test_final_winsor2, y_test_final_winsor2)\n",
    "y_pred_final_winsor2 = reg.predict(X_test_final_winsor2)\n",
    "mae_winsor2 = mean_absolute_error(y_test_final_winsor2, y_pred_final_winsor2)\n",
    "mse_winsor2 = mean_squared_error(y_test_final_winsor2, y_pred_final_winsor2)\n",
    "rmse_winsor2 = np.sqrt(mse_winsor2)\n",
    "d_winsor2 = {'5% outliers removed': [mse_winsor2, rmse_winsor2, mae_winsor2]}\n",
    "df_winsor2 = pd.DataFrame(d_winsor2, index = ['MSE','RMSE','MAE'])\n",
    "print(df_winsor2)"
   ]
  },
  {
   "cell_type": "code",
   "execution_count": 10,
   "id": "897af943",
   "metadata": {},
   "outputs": [
    {
     "name": "stdout",
     "output_type": "stream",
     "text": [
      "      With outliers  1% outliers removed  5% outliers removed\n",
      "MSE   169727.707753           831.149688           257.430482\n",
      "RMSE     411.980227            28.829667            16.044640\n",
      "MAE      105.954015            16.777226            12.031347\n"
     ]
    }
   ],
   "source": [
    "results_LR = pd.concat([df_nonan, df_winsor, df_winsor2], axis = 1)\n",
    "print(results_LR)"
   ]
  },
  {
   "cell_type": "code",
   "execution_count": 11,
   "id": "b711b959",
   "metadata": {},
   "outputs": [],
   "source": [
    "results_LR.to_excel(\"results_LR_with_features_with_NA.xlsx\")"
   ]
  },
  {
   "cell_type": "code",
   "execution_count": null,
   "id": "d4f1e189",
   "metadata": {},
   "outputs": [],
   "source": []
  }
 ],
 "metadata": {
  "kernelspec": {
   "display_name": "Python 3",
   "language": "python",
   "name": "python3"
  },
  "language_info": {
   "name": ""
  }
 },
 "nbformat": 4,
 "nbformat_minor": 5
}
