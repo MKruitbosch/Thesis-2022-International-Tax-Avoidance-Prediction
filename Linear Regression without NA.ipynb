{
 "cells": [
  {
   "cell_type": "code",
   "execution_count": 7,
   "id": "a311a982",
   "metadata": {},
   "outputs": [],
   "source": [
    "import seaborn as sns\n",
    "import pandas as pd\n",
    "import numpy as np\n",
    "from sklearn.model_selection import train_test_split\n",
    "import statsmodels.api as sm\n",
    "from sklearn.linear_model import LinearRegression\n",
    "from scipy import stats\n",
    "from scipy.stats import mstats\n",
    "from sklearn.metrics import mean_absolute_error, mean_squared_error\n",
    "from sklearn.experimental import enable_iterative_imputer\n",
    "from sklearn.impute import IterativeImputer\n",
    "import xgboost as xgb\n",
    "from sklearn.preprocessing import StandardScaler\n",
    "from sklearn.preprocessing import RobustScaler"
   ]
  },
  {
   "cell_type": "code",
   "execution_count": 3,
   "id": "6204ee11",
   "metadata": {},
   "outputs": [],
   "source": [
    "data = pd.read_excel('Final dataset for real3.xlsx', index_col = 0)"
   ]
  },
  {
   "cell_type": "code",
   "execution_count": 4,
   "id": "86a44d2e",
   "metadata": {
    "scrolled": false
   },
   "outputs": [
    {
     "name": "stdout",
     "output_type": "stream",
     "text": [
      "Country ISO code        object\n",
      "Nr. of Tax Treaties      int64\n",
      "NACE Rev. 2            float64\n",
      "Operating revenue      float64\n",
      "Number of employees    float64\n",
      "PBT                    float64\n",
      "Total assets           float64\n",
      "ROA                    float64\n",
      "No of subsidiaries       int64\n",
      "Solvency ratio         float64\n",
      "Long term debt         float64\n",
      "Debtors                float64\n",
      "Current liabilities    float64\n",
      "Size                    object\n",
      "Accounting practice     object\n",
      "Degree                 float64\n",
      "Closeness              float64\n",
      "Betweenness            float64\n",
      "Eigenvector            float64\n",
      "Hubs                   float64\n",
      "ETR                    float64\n",
      "dtype: object\n"
     ]
    }
   ],
   "source": [
    "types = data.dtypes\n",
    "print(types)"
   ]
  },
  {
   "cell_type": "code",
   "execution_count": 135,
   "id": "59166c42",
   "metadata": {},
   "outputs": [],
   "source": [
    "data_nonan = data.dropna()\n",
    "data_nonan = pd.DataFrame(data_nonan)"
   ]
  },
  {
   "cell_type": "code",
   "execution_count": 243,
   "id": "596715a9",
   "metadata": {},
   "outputs": [],
   "source": [
    "def winsorize(dataframe, upper, lower, column_to_winsor):\n",
    "    dataframe = dataframe.sort_values(column_to_winsor, ascending=False, ignore_index = True)\n",
    "    amount = dataframe[column_to_winsor].count()\n",
    "    up = int(amount * (upper/100))\n",
    "    low = int(amount * (lower/100))\n",
    "    data_winsor = dataframe.loc[low:up]\n",
    "    return data_winsor\n",
    "\n",
    "data_winsor = winsorize(imputed_df, 99,  1, 'ETR') \n",
    "data_winsor = winsorize(data_winsor, 99, 1, \"Operating revenue\")\n",
    "data_winsor = winsorize(data_winsor, 99, 1, \"Total assets\")\n",
    "data_winsor = winsorize(data_winsor, 99, 1, \"Current liabilities\")\n",
    "#data_winsor = winsorize(data_winsor, 99, 1, \"Betweenness\")\n",
    "data_winsor = winsorize(data_winsor, 99, 1, \"Long term debt\")\n",
    "data_winsor = winsorize(data_winsor, 99, 1, \"PBT\")"
   ]
  },
  {
   "cell_type": "code",
   "execution_count": 244,
   "id": "b6e4f924",
   "metadata": {},
   "outputs": [],
   "source": [
    "def winsorize(dataframe, upper, lower, column_to_winsor):\n",
    "    dataframe = dataframe.sort_values(column_to_winsor, ascending=False, ignore_index = True)\n",
    "    amount = dataframe[column_to_winsor].count()\n",
    "    up = int(amount * (upper/100))\n",
    "    low = int(amount * (lower/100))\n",
    "    data_winsor = dataframe.loc[low:up]\n",
    "    return data_winsor\n",
    "\n",
    "data_winsor2 = winsorize(imputed_df, 97.5,  4, 'ETR') \n",
    "data_winsor2 = winsorize(data_winsor2, 100,  4, \"Operating revenue\")\n",
    "data_winsor2 = winsorize(data_winsor2, 100,  4, \"Total assets\")\n",
    "data_winsor2 = winsorize(data_winsor2, 100,  4, \"Current liabilities\")\n",
    "#data_winsor2 = winsorize(data_winsor2, 100,  4, \"Betweenness\")\n",
    "data_winsor2 = winsorize(data_winsor2, 100,  4, \"Long term debt\")\n",
    "data_winsor2 = winsorize(data_winsor2, 97.5,  2.5, \"PBT\")"
   ]
  },
  {
   "cell_type": "code",
   "execution_count": 239,
   "id": "8cfb7850",
   "metadata": {},
   "outputs": [],
   "source": [
    "from sklearn.experimental import enable_iterative_imputer # noqa\n",
    "from sklearn.impute import IterativeImputer\n",
    "import xgboost as xgb\n",
    "\n",
    "iim=IterativeImputer(initial_strategy='median',max_iter=10,missing_values= np.nan,random_state=2031996)\n",
    "\n",
    "imputed_df = pd.DataFrame(iim.fit_transform(data2), index = data.index)\n",
    "\n",
    "imputed_df.columns = data2.columns\n",
    "\n",
    "imputed_df = pd.concat([imputed_df, data['ETR']], axis = 1)"
   ]
  },
  {
   "cell_type": "code",
   "execution_count": 10,
   "id": "ccb866c7",
   "metadata": {},
   "outputs": [
    {
     "name": "stdout",
     "output_type": "stream",
     "text": [
      "Train (16986, 9) (16986,)\n",
      "Test (4247, 9) (4247,)\n",
      "Imputed (16986, 9) (16986,)\n"
     ]
    }
   ],
   "source": [
    "X = data[[\"Operating revenue\",\"Number of employees\",\n",
    "          \"PBT\",\"Total assets\",\"ROA\",\"Solvency ratio\",\"Long term debt\",\"Debtors\",\n",
    "          \"Current liabilities\"]]\n",
    "y = data[\"ETR\"]\n",
    "\n",
    "X_train, X_test, y_train, y_test = train_test_split(X, y, test_size=0.20, random_state= 2031996, shuffle = True)\n",
    "\n",
    "X_train_con = X_train[[\"Operating revenue\",\"Number of employees\",\n",
    "          \"PBT\",\"Total assets\",\"ROA\",\"Solvency ratio\",\"Long term debt\",\"Debtors\",\n",
    "          \"Current liabilities\"]]\n",
    "\n",
    "scaler = StandardScaler()\n",
    "scaler.fit(X_train_con)\n",
    "StandardScaler()\n",
    "X_train_con = scaler.transform(X_train_con)\n",
    "\n",
    "iim=IterativeImputer(\n",
    "initial_strategy='median',\n",
    "max_iter=10,\n",
    "missing_values= np.nan,\n",
    "random_state=2031996)\n",
    "\n",
    "imputed_X_train_con = pd.DataFrame(iim.fit_transform(X_train_con), index = X_train.index)\n",
    "imputed_X_train_con.columns = [\"Operating revenue\",\"Number of employees\",\n",
    "          \"PBT\",\"Total assets\",\"ROA\",\"Solvency ratio\",\"Long term debt\",\"Debtors\",\n",
    "          \"Current liabilities\"]\n",
    "\n",
    "drop_na = pd.concat([imputed_X_train_con, y_train], axis = 1)\n",
    "drop_na = drop_na.dropna()\n",
    "drop_na = pd.DataFrame(drop_na)\n",
    "\n",
    "X_train_final = drop_na.loc[:,:'Current liabilities']\n",
    "y_train_final = drop_na['ETR']\n",
    "\n",
    "X_test_con = X_test[[\"Operating revenue\",\"Number of employees\",\n",
    "          \"PBT\",\"Total assets\",\"ROA\",\"Solvency ratio\",\"Long term debt\",\"Debtors\",\n",
    "          \"Current liabilities\"]]\n",
    "\n",
    "X_test_con = scaler.transform(X_test_con)\n",
    "\n",
    "imputed_X_test_con = pd.DataFrame(iim.transform(X_test_con), index = X_test.index)\n",
    "imputed_X_test_con.columns = [\"Operating revenue\",\"Number of employees\",\n",
    "          \"PBT\",\"Total assets\",\"ROA\",\"Solvency ratio\",\"Long term debt\",\"Debtors\",\n",
    "          \"Current liabilities\"]\n",
    "\n",
    "drop_na = pd.concat([imputed_X_test_con, y_test], axis = 1)\n",
    "drop_na = pd.DataFrame(drop_na)\n",
    "\n",
    "X_test_final = drop_na.loc[:,:'Current liabilities']\n",
    "y_test_final = drop_na['ETR']\n",
    "\n",
    "print('Train', X_train.shape, y_train.shape)\n",
    "print('Test', X_test.shape, y_test.shape)\n",
    "print('Imputed' , X_train_final.shape, y_train_final.shape)"
   ]
  },
  {
   "cell_type": "code",
   "execution_count": 19,
   "id": "08d7e9be",
   "metadata": {},
   "outputs": [
    {
     "name": "stdout",
     "output_type": "stream",
     "text": [
      "Train (11108, 9) (11108,)\n",
      "Test (2778, 9) (2778,)\n",
      "Imputed (11108, 9) (11108,)\n",
      "Imputed (2778, 9) (2778,)\n"
     ]
    }
   ],
   "source": [
    "def winsorize(dataframe, upper, lower, column_to_winsor):\n",
    "    dataframe = dataframe.sort_values(column_to_winsor, ascending=False, ignore_index = True)\n",
    "    amount = dataframe[column_to_winsor].count()\n",
    "    up = int(amount * (upper/100))\n",
    "    low = int(amount * (lower/100))\n",
    "    data_winsor = dataframe.loc[low:up]\n",
    "    return data_winsor\n",
    "\n",
    "data_winsor = winsorize(data, 99,  1, 'ETR') \n",
    "data_winsor = winsorize(data_winsor, 99, 1, \"Operating revenue\")\n",
    "data_winsor = winsorize(data_winsor, 99, 1, \"Total assets\")\n",
    "data_winsor = winsorize(data_winsor, 99, 1, \"Current liabilities\")\n",
    "data_winsor = winsorize(data_winsor, 99, 1, \"Betweenness\")\n",
    "data_winsor = winsorize(data_winsor, 99, 1, \"Long term debt\")\n",
    "data_winsor = winsorize(data_winsor, 99, 1, \"PBT\")\n",
    "\n",
    "X_winsor = data_winsor[[\"Operating revenue\",\"Number of employees\",\n",
    "          \"PBT\",\"Total assets\",\"ROA\",\"Solvency ratio\",\"Long term debt\",\"Debtors\",\n",
    "          \"Current liabilities\"]]\n",
    "y_winsor = data_winsor[\"ETR\"]\n",
    "\n",
    "X_train_winsor, X_test_winsor, y_train_winsor, y_test_winsor = train_test_split(X_winsor, y_winsor, test_size=0.20, random_state= 2031996, shuffle = True)\n",
    "\n",
    "X_train_con_winsor = X_train_winsor[[\"Operating revenue\",\"Number of employees\",\n",
    "          \"PBT\",\"Total assets\",\"ROA\",\"Solvency ratio\",\"Long term debt\",\"Debtors\",\n",
    "          \"Current liabilities\"]]\n",
    "\n",
    "scaler = StandardScaler()\n",
    "scaler.fit(X_train_con_winsor)\n",
    "StandardScaler()\n",
    "X_train_con_winsor = scaler.transform(X_train_con_winsor)\n",
    "\n",
    "iim=IterativeImputer(\n",
    "initial_strategy='median',\n",
    "max_iter=10,\n",
    "missing_values= np.nan,\n",
    "random_state=2031996)\n",
    "\n",
    "imputed_X_train_con_winsor = pd.DataFrame(iim.fit_transform(X_train_con_winsor), index = X_train_winsor.index)\n",
    "imputed_X_train_con_winsor.columns = [\"Operating revenue\",\"Number of employees\",\n",
    "          \"PBT\",\"Total assets\",\"ROA\",\"Solvency ratio\",\"Long term debt\",\"Debtors\",\n",
    "          \"Current liabilities\"]\n",
    "\n",
    "drop_na_winsor = pd.concat([imputed_X_train_con_winsor, y_train_winsor], axis = 1)\n",
    "drop_na_winsor = drop_na_winsor.dropna()\n",
    "drop_na_winsor = pd.DataFrame(drop_na_winsor)\n",
    "\n",
    "X_train_final_winsor = drop_na_winsor.loc[:,:'Current liabilities']\n",
    "y_train_final_winsor = drop_na_winsor['ETR']\n",
    "\n",
    "X_test_con_winsor = X_test_winsor[[\"Operating revenue\",\"Number of employees\",\n",
    "          \"PBT\",\"Total assets\",\"ROA\",\"Solvency ratio\",\"Long term debt\",\"Debtors\",\n",
    "          \"Current liabilities\"]]\n",
    "\n",
    "X_test_con_winsor = scaler.transform(X_test_con_winsor)\n",
    "\n",
    "imputed_X_test_con_winsor = pd.DataFrame(iim.transform(X_test_con_winsor), index = X_test_winsor.index)\n",
    "imputed_X_test_con_winsor.columns = [\"Operating revenue\",\"Number of employees\",\n",
    "          \"PBT\",\"Total assets\",\"ROA\",\"Solvency ratio\",\"Long term debt\",\"Debtors\",\n",
    "          \"Current liabilities\"]\n",
    "\n",
    "drop_na_winsor = pd.concat([imputed_X_test_con_winsor, y_test_winsor], axis = 1)\n",
    "drop_na_winsor = pd.DataFrame(drop_na_winsor)\n",
    "\n",
    "X_test_final_winsor = drop_na_winsor.loc[:,:'Current liabilities']\n",
    "y_test_final_winsor = drop_na_winsor['ETR']\n",
    "\n",
    "print('Train', X_train_winsor.shape, y_train_winsor.shape)\n",
    "print('Test', X_test_winsor.shape, y_test_winsor.shape)\n",
    "print('Imputed' , X_train_final_winsor.shape, y_train_final_winsor.shape)\n",
    "print('Imputed' , X_test_final_winsor.shape, y_test_final_winsor.shape)"
   ]
  },
  {
   "cell_type": "code",
   "execution_count": 20,
   "id": "9135f9c3",
   "metadata": {},
   "outputs": [
    {
     "name": "stdout",
     "output_type": "stream",
     "text": [
      "Train (8877, 9) (8877,)\n",
      "Test (2220, 9) (2220,)\n",
      "Imputed (8877, 9) (8877,)\n",
      "Imputed (2220, 9) (2220,)\n"
     ]
    }
   ],
   "source": [
    "def winsorize(dataframe, upper, lower, column_to_winsor):\n",
    "    dataframe = dataframe.sort_values(column_to_winsor, ascending=False, ignore_index = True)\n",
    "    amount = dataframe[column_to_winsor].count()\n",
    "    up = int(amount * (upper/100))\n",
    "    low = int(amount * (lower/100))\n",
    "    data_winsor = dataframe.loc[low:up]\n",
    "    return data_winsor\n",
    "\n",
    "data_winsor2 = winsorize(data, 97.5,  4, 'ETR') \n",
    "data_winsor2 = winsorize(data_winsor2, 100,  4, \"Operating revenue\")\n",
    "data_winsor2 = winsorize(data_winsor2, 100,  4, \"Total assets\")\n",
    "data_winsor2 = winsorize(data_winsor2, 100,  4, \"Current liabilities\")\n",
    "data_winsor2 = winsorize(data_winsor2, 100,  4, \"Betweenness\")\n",
    "data_winsor2 = winsorize(data_winsor2, 100,  4, \"Long term debt\")\n",
    "data_winsor2 = winsorize(data_winsor2, 97.5,  2.5, \"PBT\")\n",
    "\n",
    "X_winsor2 = data_winsor2[[\"Operating revenue\",\"Number of employees\",\n",
    "          \"PBT\",\"Total assets\",\"ROA\",\"Solvency ratio\",\"Long term debt\",\"Debtors\",\n",
    "          \"Current liabilities\"]]\n",
    "y_winsor2 = data_winsor2[\"ETR\"]\n",
    "\n",
    "X_train_winsor2, X_test_winsor2, y_train_winsor2, y_test_winsor2 = train_test_split(X_winsor2, y_winsor2, test_size=0.20, random_state= 2031996, shuffle = True)\n",
    "\n",
    "X_train_con_winsor2 = X_train_winsor2[[\"Operating revenue\",\"Number of employees\",\n",
    "          \"PBT\",\"Total assets\",\"ROA\",\"Solvency ratio\",\"Long term debt\",\"Debtors\",\n",
    "          \"Current liabilities\"]]\n",
    "\n",
    "scaler = StandardScaler()\n",
    "scaler.fit(X_train_con_winsor2)\n",
    "StandardScaler()\n",
    "X_train_con_winsor2 = scaler.transform(X_train_con_winsor2)\n",
    "\n",
    "iim=IterativeImputer(\n",
    "initial_strategy='median',\n",
    "max_iter=10,\n",
    "missing_values= np.nan,\n",
    "random_state=2031996)\n",
    "\n",
    "imputed_X_train_con_winsor2 = pd.DataFrame(iim.fit_transform(X_train_con_winsor2), index = X_train_winsor2.index)\n",
    "imputed_X_train_con_winsor2.columns = [\"Operating revenue\",\"Number of employees\",\n",
    "          \"PBT\",\"Total assets\",\"ROA\",\"Solvency ratio\",\"Long term debt\",\"Debtors\",\n",
    "          \"Current liabilities\"]\n",
    "\n",
    "drop_na_winsor2 = pd.concat([imputed_X_train_con_winsor2, y_train_winsor2], axis = 1)\n",
    "drop_na_winsor2 = drop_na_winsor2.dropna()\n",
    "drop_na_winsor2 = pd.DataFrame(drop_na_winsor2)\n",
    "\n",
    "X_train_final_winsor2 = drop_na_winsor2.loc[:,:'Current liabilities']\n",
    "y_train_final_winsor2 = drop_na_winsor2['ETR']\n",
    "\n",
    "X_test_con_winsor2 = X_test_winsor2[[\"Operating revenue\",\"Number of employees\",\n",
    "          \"PBT\",\"Total assets\",\"ROA\",\"Solvency ratio\",\"Long term debt\",\"Debtors\",\n",
    "          \"Current liabilities\"]]\n",
    "\n",
    "X_test_con_winsor2 = scaler.transform(X_test_con_winsor2)\n",
    "\n",
    "imputed_X_test_con_winsor2 = pd.DataFrame(iim.transform(X_test_con_winsor2), index = X_test_winsor2.index)\n",
    "imputed_X_test_con_winsor2.columns = [\"Operating revenue\",\"Number of employees\",\n",
    "          \"PBT\",\"Total assets\",\"ROA\",\"Solvency ratio\",\"Long term debt\",\"Debtors\",\n",
    "          \"Current liabilities\"]\n",
    "\n",
    "drop_na_winsor2 = pd.concat([imputed_X_test_con_winsor2, y_test_winsor2], axis = 1)\n",
    "drop_na_winsor2 = pd.DataFrame(drop_na_winsor2)\n",
    "\n",
    "X_test_final_winsor2 = drop_na_winsor2.loc[:,:'Current liabilities']\n",
    "y_test_final_winsor2 = drop_na_winsor2['ETR']\n",
    "\n",
    "print('Train', X_train_winsor2.shape, y_train_winsor2.shape)\n",
    "print('Test', X_test_winsor2.shape, y_test_winsor2.shape)\n",
    "print('Imputed' , X_train_final_winsor2.shape, y_train_final_winsor2.shape)\n",
    "print('Imputed' , X_test_final_winsor2.shape, y_test_final_winsor2.shape)"
   ]
  },
  {
   "cell_type": "code",
   "execution_count": 24,
   "id": "4710557e",
   "metadata": {},
   "outputs": [
    {
     "name": "stdout",
     "output_type": "stream",
     "text": [
      "      With outliers\n",
      "MSE   129897.678190\n",
      "RMSE     360.413205\n",
      "MAE       68.412788\n"
     ]
    }
   ],
   "source": [
    "reg = LinearRegression().fit(X_train_final, y_train_final)\n",
    "reg.score(X_test_final, y_test_final)\n",
    "y_pred_final = reg.predict(X_test_final)\n",
    "mae = mean_absolute_error(y_test_final, y_pred_final)\n",
    "mse = mean_squared_error(y_test_final, y_pred_final)\n",
    "rmse = np.sqrt(mse)\n",
    "d_nonan = {'With outliers': [mse, rmse, mae]}\n",
    "df_nonan = pd.DataFrame(d_nonan, index = ['MSE','RMSE','MAE'])\n",
    "print(df_nonan)"
   ]
  },
  {
   "cell_type": "code",
   "execution_count": 27,
   "id": "7691a5ce",
   "metadata": {},
   "outputs": [
    {
     "name": "stdout",
     "output_type": "stream",
     "text": [
      "      1% outliers removed\n",
      "MSE            856.502618\n",
      "RMSE            29.266066\n",
      "MAE             17.522565\n"
     ]
    }
   ],
   "source": [
    "reg = LinearRegression().fit(X_train_final_winsor, y_train_final_winsor)\n",
    "reg.score(X_test_final_winsor, y_test_final_winsor)\n",
    "y_pred_final_winsor = reg.predict(X_test_final_winsor)\n",
    "mae_winsor = mean_absolute_error(y_test_final_winsor, y_pred_final_winsor)\n",
    "mse_winsor = mean_squared_error(y_test_final_winsor, y_pred_final_winsor)\n",
    "rmse_winsor = np.sqrt(mse_winsor)\n",
    "d_winsor = {'1% outliers removed': [mse_winsor, rmse_winsor, mae_winsor]}\n",
    "df_winsor = pd.DataFrame(d_winsor, index = ['MSE','RMSE','MAE'])\n",
    "print(df_winsor)"
   ]
  },
  {
   "cell_type": "code",
   "execution_count": 29,
   "id": "5c5c7870",
   "metadata": {},
   "outputs": [
    {
     "name": "stdout",
     "output_type": "stream",
     "text": [
      "      5% outliers removed\n",
      "MSE            276.096656\n",
      "RMSE            16.616156\n",
      "MAE             12.794043\n"
     ]
    }
   ],
   "source": [
    "reg = LinearRegression().fit(X_train_final_winsor2, y_train_final_winsor2)\n",
    "reg.score(X_test_final_winsor2, y_test_final_winsor2)\n",
    "y_pred_final_winsor2 = reg.predict(X_test_final_winsor2)\n",
    "mae_winsor2 = mean_absolute_error(y_test_final_winsor2, y_pred_final_winsor2)\n",
    "mse_winsor2 = mean_squared_error(y_test_final_winsor2, y_pred_final_winsor2)\n",
    "rmse_winsor2 = np.sqrt(mse_winsor2)\n",
    "d_winsor2 = {'5% outliers removed': [mse_winsor2, rmse_winsor2, mae_winsor2]}\n",
    "df_winsor2 = pd.DataFrame(d_winsor2, index = ['MSE','RMSE','MAE'])\n",
    "print(df_winsor2)"
   ]
  },
  {
   "cell_type": "code",
   "execution_count": 30,
   "id": "d5122004",
   "metadata": {},
   "outputs": [
    {
     "name": "stdout",
     "output_type": "stream",
     "text": [
      "      With outliers  1% outliers removed  5% outliers removed\n",
      "MSE   129897.678190           856.502618           276.096656\n",
      "RMSE     360.413205            29.266066            16.616156\n",
      "MAE       68.412788            17.522565            12.794043\n"
     ]
    }
   ],
   "source": [
    "results_LR = pd.concat([df_nonan, df_winsor, df_winsor2], axis = 1)\n",
    "print(results_LR)"
   ]
  },
  {
   "cell_type": "code",
   "execution_count": 31,
   "id": "c5cf99e1",
   "metadata": {},
   "outputs": [],
   "source": [
    "results_LR.to_excel(\"results_LR.xlsx\")"
   ]
  }
 ],
 "metadata": {
  "kernelspec": {
   "display_name": "Python 3",
   "language": "python",
   "name": "python3"
  },
  "language_info": {
   "codemirror_mode": {
    "name": "ipython",
    "version": 3
   },
   "file_extension": ".py",
   "mimetype": "text/x-python",
   "name": "python",
   "nbconvert_exporter": "python",
   "pygments_lexer": "ipython3",
   "version": "3.7.4"
  }
 },
 "nbformat": 4,
 "nbformat_minor": 5
}
